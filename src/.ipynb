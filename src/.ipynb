{
 "cells": [
  {
   "cell_type": "markdown",
   "metadata": {},
   "source": [
    "# Resolvendo o Problema do **Caixeiro Viajante** usando _`Google Maps`_"
   ]
  },
  {
   "cell_type": "markdown",
   "metadata": {},
   "source": [
    "> **MVP**:"
   ]
  },
  {
   "cell_type": "code",
   "execution_count": 1,
   "metadata": {},
   "outputs": [],
   "source": [
    "from modules import io  # entrada e saída\n",
    "from modules import browser  # navegador\n",
    "from modules import navigation  # navegações\n",
    "import json\n",
    "from modules import processing\n",
    "from selenium.webdriver.common.keys import Keys"
   ]
  },
  {
   "cell_type": "code",
   "execution_count": 5,
   "metadata": {},
   "outputs": [],
   "source": [
    "# link padrão\n",
    "url = 'https://www.google.com/maps'\n",
    "\n",
    "# ponto de origem\n",
    "point_origin = 'uberlândia, mg'\n",
    "\n",
    "# tipo de condução\n",
    "type_driving = 'carro'\n",
    "\n",
    "# localidades\n",
    "places = 'capitals'\n",
    "\n",
    "# capitais\n",
    "locations = io.touch(places + '.txt')\n",
    "\n",
    "# inserindo o ponto de origem\n",
    "locations.insert(0, point_origin)\n",
    "\n",
    "# instanciando o driver\n",
    "driver = browser.create_driver(url)\n",
    "\n",
    "# setando o primeiro destino, para abrir as rotas\n",
    "navigation.set_destination(locations[0], driver, box=1)\n",
    "\n",
    "# abrindo a seção de rotas\n",
    "navigation.click_routes_button(driver)\n",
    "\n",
    "# selecionando o estilo de deslocamento\n",
    "navigation.set_driving(driver, type_driving)\n",
    "\n",
    "# realizando a leitura dos arquivos já processados\n",
    "data = io.touch(places + '.txt', 'output', 'r', True)\n",
    "\n",
    "# extraindo as chaves já processadas\n",
    "already_processed = [list(key.keys())[0] for key in data]\n",
    "\n",
    "# abrindo o arquivo de output\n",
    "with open(fr'io/output/{places}.txt', 'a', encoding='utf-8') as file:\n",
    "\n",
    "    # percorrendo os endereços\n",
    "    for a, address_a in enumerate(locations):\n",
    "\n",
    "        # percorrendo os endereços\n",
    "        for b, address_b in enumerate(locations):\n",
    "\n",
    "            # as localizações devem ser diferentes entre si e, não ter sido processada anteriormente\n",
    "            if a != b and f'{a}_{b}' not in already_processed:\n",
    "                print(f'{address_a}, {address_b}')\n",
    "\n",
    "                # adicionando os dados de busca\n",
    "                navigation.set_destination(address_a, driver, 1)\n",
    "                navigation.set_destination(address_b, driver, 2)\n",
    "\n",
    "                # raspando as informações\n",
    "                time = browser.get_time(driver)\n",
    "                distance = browser.get_distance(driver)\n",
    "\n",
    "                # estruturando os dados\n",
    "                data = {\n",
    "                    f'{a}_{b}': {\n",
    "                        'address_a': address_a,\n",
    "                        'address_b': address_b,\n",
    "                        'time': time,\n",
    "                        'distance': distance,\n",
    "                    }\n",
    "                }\n",
    "\n",
    "                # salvando os dados da linha\n",
    "                file.write(json.dumps(data, ensure_ascii=False) + '\\n')\n",
    "\n",
    "                # limpando memória\n",
    "                file.flush()\n",
    "\n",
    "# realizando uma nova leitura, com dados atualizados\n",
    "data = io.touch(places + '.txt', 'output', 'r', True)\n",
    "\n",
    "# extraindo os dados\n",
    "extract_data = [processing.extract_info(value) for value in data]\n",
    "\n",
    "# estrutura de dados\n",
    "extract_data = {key: value for item in extract_data for key, value in item.items()}\n",
    "\n",
    "# caldulando otimização do tsp\n",
    "solution = processing.tsp(locations, extract_data)\n",
    "\n",
    "# realizando a plotagem dos resultados\n",
    "navigation.plot_routes(locations, solution, driver)"
   ]
  },
  {
   "cell_type": "code",
   "execution_count": null,
   "metadata": {},
   "outputs": [],
   "source": []
  }
 ],
 "metadata": {
  "kernelspec": {
   "display_name": "Python 3",
   "language": "python",
   "name": "python3"
  },
  "language_info": {
   "codemirror_mode": {
    "name": "ipython",
    "version": 3
   },
   "file_extension": ".py",
   "mimetype": "text/x-python",
   "name": "python",
   "nbconvert_exporter": "python",
   "pygments_lexer": "ipython3",
   "version": "3.12.2"
  }
 },
 "nbformat": 4,
 "nbformat_minor": 2
}
